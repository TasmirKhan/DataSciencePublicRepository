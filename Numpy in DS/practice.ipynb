{
 "cells": [
  {
   "cell_type": "markdown",
   "id": "f5330637",
   "metadata": {},
   "source": [
    "rray Indexing & Slicing\n",
    "\n",
    "Extract the first 3 elements of a NumPy array [10, 20, 30, 40, 50].\n",
    "\n",
    "Reverse a NumPy array [1, 2, 3, 4, 5].\n",
    "\n",
    "Given arr = np.array([5, 10, 15, 20, 25]), how do you extract the elements [10, 20]?\n",
    "\n",
    "For a 2D array [[1,2,3],[4,5,6],[7,8,9]], extract the element 6.\n",
    "\n",
    "For the same array, extract the entire second row."
   ]
  },
  {
   "cell_type": "code",
   "execution_count": 18,
   "id": "c852c39f",
   "metadata": {},
   "outputs": [
    {
     "name": "stdout",
     "output_type": "stream",
     "text": [
      "[10 20 30]\n",
      "50 40 30 20 10\n",
      "10 20\n",
      "6\n",
      "[[4, 5, 6]]\n"
     ]
    }
   ],
   "source": [
    "import numpy as np\n",
    "\n",
    "arr = np.array([10, 20, 30, 40, 50])\n",
    "print(arr[:3])\n",
    "print(*reversed(arr))\n",
    "arr3 = np.array([5, 10, 15, 20, 25])\n",
    "arr2 = [x for x in arr3 if x%10 ==0]\n",
    "print(*arr2)\n",
    "arr4 = [[1,2,3],[4,5,6],[7,8,9]]\n",
    "print(arr4[1][2])\n",
    "print(arr4[1:2])\n"
   ]
  },
  {
   "cell_type": "markdown",
   "id": "7b339c94",
   "metadata": {},
   "source": [
    "Array Operations\n",
    "\n",
    "Create two arrays [1,2,3] and [4,5,6]. Add, subtract, and multiply them element-wise.\n",
    "\n",
    "Given arr = np.array([1, 2, 3, 4, 5]), square every element.\n",
    "\n",
    "Find the maximum and minimum values in arr = np.array([3, 7, 2, 9, 4]).\n",
    "\n",
    "Find the sum of all elements in a NumPy array [1, 2, 3, 4, 5].\n",
    "\n",
    "Calculate the mean and standard deviation of [10, 20, 30, 40, 50]."
   ]
  },
  {
   "cell_type": "code",
   "execution_count": 29,
   "id": "cf97d9c3",
   "metadata": {},
   "outputs": [
    {
     "name": "stdout",
     "output_type": "stream",
     "text": [
      "[5 7 9]\n",
      "[ 4 10 18]\n",
      "[0.25 0.4  0.5 ]\n",
      "Square number: \n",
      "Sum =  15\n",
      "[ 1  4  9 16 25]\n",
      "9\n",
      "2\n",
      "30.0\n",
      "14.142135623730951\n"
     ]
    }
   ],
   "source": [
    "arr1 = np.array([1,2,3])\n",
    "arr2 =np.array([4,5,6])\n",
    "print(arr1+arr2)\n",
    "print(arr1*arr2)\n",
    "print(arr1/arr2)\n",
    "\n",
    "print(\"Square number: \")\n",
    "arr = np.array([1, 2, 3, 4, 5])\n",
    "print(\"Sum = \", sum(arr))\n",
    "arr = arr**2\n",
    "print(arr)\n",
    "\n",
    "arr = np.array([3, 7, 2, 9, 4])\n",
    "print(max(arr))\n",
    "print(min(arr))\n",
    "\n",
    "arr = np.array([10, 20, 30, 40, 50])\n",
    "print(np.mean(arr))\n",
    "print(np.std(arr))\n",
    "\n"
   ]
  },
  {
   "cell_type": "markdown",
   "id": "9f8d5008",
   "metadata": {},
   "source": [
    "Reshaping & Combining\n",
    "\n",
    "Convert a 1D array of 12 elements into a 3 × 4 2D array.\n",
    "\n",
    "Stack two arrays [1,2,3] and [4,5,6] vertically and horizontally.\n",
    "\n",
    "Flatten a 2D array [[1,2],[3,4]] into a 1D array."
   ]
  },
  {
   "cell_type": "code",
   "execution_count": 41,
   "id": "5f404992",
   "metadata": {},
   "outputs": [
    {
     "name": "stdout",
     "output_type": "stream",
     "text": [
      "[ 1  2  3  4  5  6  7  8  9 10 11 12]\n",
      "[[ 1  2  3  4]\n",
      " [ 5  6  7  8]\n",
      " [ 9 10 11 12]]\n",
      "[ 1  2  3  4  5  6  7  8  9 10 11 12]\n",
      "[1 2 3 4]\n",
      "[[1 2 3]\n",
      " [4 5 6]]\n",
      "[[1 4]\n",
      " [2 5]\n",
      " [3 6]]\n",
      "[[1 2 3]\n",
      " [4 5 6]]\n",
      "[1 2 3 4 5 6]\n"
     ]
    }
   ],
   "source": [
    "arr = np.array([x for x in range(1,13)])\n",
    "print(arr)\n",
    "print(arr.reshape(3,4))\n",
    "print(arr)\n",
    "\n",
    "arr = np.array( [[1,2],[3,4]])\n",
    "print(arr.flatten())\n",
    "\n",
    "arr = np.array([1,2,3])\n",
    "arr2 = np.array([4,5,6])\n",
    "\n",
    "print(np.stack((arr,arr2),axis = 0))\n",
    "print(np.stack((arr,arr2),axis = 1))\n",
    "\n",
    "print(np.vstack((arr,arr2)))\n",
    "print(np.hstack((arr,arr2)))\n"
   ]
  },
  {
   "cell_type": "markdown",
   "id": "0bcf9721",
   "metadata": {},
   "source": [
    "Boolean Indexing\n",
    "\n",
    "Given arr = np.array([10, 15, 20, 25, 30]), extract elements greater than 20.\n",
    "\n",
    "Replace all odd numbers in [1,2,3,4,5,6] with -1."
   ]
  },
  {
   "cell_type": "code",
   "execution_count": 45,
   "id": "f24d2e90",
   "metadata": {},
   "outputs": [
    {
     "name": "stdout",
     "output_type": "stream",
     "text": [
      "[25 30]\n",
      "[-1  2 -1  4 -1  6]\n"
     ]
    }
   ],
   "source": [
    "arr = np.array([10, 15, 20, 25, 30])\n",
    "x = arr>20\n",
    "print(arr[x])\n",
    "\n",
    "arr = np.array([1,2,3,4,5,6])\n",
    "arr[arr%2!=0] = -1\n",
    "print(arr)\n"
   ]
  }
 ],
 "metadata": {
  "kernelspec": {
   "display_name": "Python 3",
   "language": "python",
   "name": "python3"
  },
  "language_info": {
   "codemirror_mode": {
    "name": "ipython",
    "version": 3
   },
   "file_extension": ".py",
   "mimetype": "text/x-python",
   "name": "python",
   "nbconvert_exporter": "python",
   "pygments_lexer": "ipython3",
   "version": "3.12.1"
  }
 },
 "nbformat": 4,
 "nbformat_minor": 5
}
