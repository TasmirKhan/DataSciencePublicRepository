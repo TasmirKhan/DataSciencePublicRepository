{
 "cells": [
  {
   "cell_type": "markdown",
   "id": "dd61a932",
   "metadata": {},
   "source": [
    "Why use NumPy\n",
    "Python lists are flexible but slow for numerical computing because they:\n",
    "\n",
    "Store elements as pointers instead of a continuous block of memory.\n",
    "Lack vectorized operations, relying on loops instead.\n",
    "Have significant overhead due to dynamic typing.\n",
    "NumPy's Superpowers:\n",
    "Faster than Python lists (C-optimized backend)\n",
    "Uses less memory (efficient storage)\n",
    "Supports vectorized operations (no explicit loops needed)\n",
    "Has built-in mathematical functions\n",
    "NumPy vs. Python Lists – Performance Test\n",
    "Let's compare Python lists with NumPy arrays using a simple example.\n",
    "\n",
    "Example 1: Adding Two Lists vs. NumPy Arrays\n",
    "import numpy as np\n",
    "import time\n",
    " \n",
    "# Python list\n",
    "size = 1_000_000\n",
    "list1 = list(range(size))\n",
    "list2 = list(range(size))\n",
    " \n",
    "start = time.time()\n",
    "result = [x + y for x, y in zip(list1, list2)]\n",
    "end = time.time()\n",
    "print(\"Python list addition time:\", end - start)\n",
    " \n",
    "# NumPy array\n",
    "arr1 = np.array(list1)\n",
    "arr2 = np.array(list2)\n",
    " \n",
    "start = time.time()\n",
    "result = arr1 + arr2  # Vectorized operation\n",
    "end = time.time()\n",
    "print(\"NumPy array addition time:\", end - start)\n",
    "\n",
    "Key Takeaway: NumPy is significantly faster because it performs operations in C, avoiding Python loops.\n",
    "\n",
    "Creating NumPy Arrays\n",
    "import numpy as np\n",
    " \n",
    "# Creating a 1D NumPy array\n",
    "arr1 = np.array([1, 2, 3, 4, 5])\n",
    "print(arr1)\n",
    " \n",
    "# Creating a 2D NumPy array\n",
    "arr2 = np.array([[1, 2, 3], [4, 5, 6]])\n",
    "print(arr2)\n",
    " \n",
    "# Checking type and shape\n",
    "print(\"Type:\", type(arr1))\n",
    "print(\"Shape:\", arr2.shape)\n",
    "\n",
    "🔹 NumPy stores data in a contiguous memory block, making access faster than lists.🔹 shape shows the dimensions of an array.\n",
    "\n",
    "Memory Efficiency – NumPy vs. Lists\n",
    "Let's check memory consumption.\n",
    "\n",
    "import sys\n",
    " \n",
    "list_data = list(range(1000))\n",
    "numpy_data = np.array(list_data)\n",
    " \n",
    "print(\"Python list size:\", sys.getsizeof(list_data) * len(list_data), \"bytes\")\n",
    "print(\"NumPy array size:\", numpy_data.nbytes, \"bytes\")\n",
    "\n",
    "NumPy arrays use significantly less memory compared to Python lists.\n",
    "\n",
    "Vectorization – No More Loops!\n",
    "NumPy avoids loops by applying operations to entire arrays at once using SIMD (Single Instruction, Multiple Data) and other low-level optimizations. SIMD is a CPU-level optimization provided by modern processors.\n",
    "\n",
    "Example 2: Squaring Elements\n",
    "# Python list (loop-based)\n",
    "list_squares = [x ** 2 for x in list1]\n",
    " \n",
    "# NumPy (vectorized)\n",
    "numpy_squares = arr1 ** 2\n",
    "\n",
    "NumPy is cleaner and faster!\n",
    "Summary\n",
    "NumPy is faster than Python lists because it is optimized in C.\n",
    "It consumes less memory due to efficient storage.\n",
    "It provides vectorized operations, removing the need for slow loops.\n",
    "Essential for data science and machine learning workflows.\n",
    "Exercises for Practice\n",
    "Create a NumPy array with values from 10 to 100 and print its shape.\n",
    "Compare the time taken to multiply two Python lists vs. two NumPy arrays.\n",
    "Find the memory size of a NumPy array with 1 million elements.+"
   ]
  },
  {
   "cell_type": "code",
   "execution_count": 1,
   "id": "05bec87f",
   "metadata": {},
   "outputs": [
    {
     "name": "stdout",
     "output_type": "stream",
     "text": [
      "using numpy 0.026098251342773438\n",
      "Using normal Python code  1.0895497798919678\n"
     ]
    }
   ],
   "source": [
    "import numpy as np \n",
    "import time \n",
    "\n",
    "size = 2_100_000_0\n",
    "list1 = list(range(size))\n",
    "list2 = list(range(size))\n",
    "\n",
    "arr1 = np.array(list1)\n",
    "arr2 = np.array(list2)\n",
    "\n",
    "start = time.time()\n",
    "finalarr = arr1+arr2\n",
    "end = time.time()\n",
    "print( \"using numpy\",end-start)\n",
    "\n",
    "\n",
    "start1 = time.time()\n",
    "\n",
    "result = [x + y for x, y in zip(list1, list2)]\n",
    "end1 = time.time()\n",
    "\n",
    "print(\"Using normal Python code \", end1-start1)"
   ]
  },
  {
   "cell_type": "code",
   "execution_count": null,
   "id": "765d799e",
   "metadata": {},
   "outputs": [
    {
     "name": "stdout",
     "output_type": "stream",
     "text": [
      "[np.int64(8), np.int64(7), np.int64(6), np.int64(7)]\n"
     ]
    },
    {
     "ename": "TypeError",
     "evalue": "list expected at most 1 argument, got 2",
     "output_type": "error",
     "traceback": [
      "\u001b[31m---------------------------------------------------------------------------\u001b[39m",
      "\u001b[31mTypeError\u001b[39m                                 Traceback (most recent call last)",
      "\u001b[36mCell\u001b[39m\u001b[36m \u001b[39m\u001b[32mIn[4]\u001b[39m\u001b[32m, line 9\u001b[39m\n\u001b[32m      6\u001b[39m list1 = \u001b[38;5;28mlist\u001b[39m(np.random.randint(\u001b[32m1\u001b[39m,\u001b[32m10\u001b[39m, size =\u001b[32m4\u001b[39m))\n\u001b[32m      7\u001b[39m \u001b[38;5;28mprint\u001b[39m(list1)\n\u001b[32m----> \u001b[39m\u001b[32m9\u001b[39m list2 = \u001b[38;5;28;43mlist\u001b[39;49m\u001b[43m(\u001b[49m\u001b[43mnp\u001b[49m\u001b[43m.\u001b[49m\u001b[43mrandom\u001b[49m\u001b[43m.\u001b[49m\u001b[43mrandint\u001b[49m\u001b[43m(\u001b[49m\u001b[32;43m1\u001b[39;49m\u001b[43m,\u001b[49m\u001b[32;43m10\u001b[39;49m\u001b[43m,\u001b[49m\u001b[43m \u001b[49m\u001b[43msize\u001b[49m\u001b[43m \u001b[49m\u001b[43m=\u001b[49m\u001b[32;43m4\u001b[39;49m\u001b[43m)\u001b[49m\u001b[43m,\u001b[49m\u001b[43m(\u001b[49m\u001b[32;43m2\u001b[39;49m\u001b[43m,\u001b[49m\u001b[32;43m2\u001b[39;49m\u001b[43m)\u001b[49m\u001b[43m)\u001b[49m\n\u001b[32m     10\u001b[39m \u001b[38;5;28mprint\u001b[39m(list2)\n\u001b[32m     12\u001b[39m arr1 = np.array(list1)\n",
      "\u001b[31mTypeError\u001b[39m: list expected at most 1 argument, got 2"
     ]
    }
   ],
   "source": [
    "# creating arrays using numpy\n",
    "import numpy as np\n",
    "import random as rd\n",
    "import time\n",
    "\n",
    "list1 = list(np.random.randint(1,10, size =4))\n",
    "print(list1)\n",
    "\n",
    "list2 = list(np.random.randint(1,10, size =4))\n",
    "print(list2)\n",
    "\n",
    "arr1 = np.array(list1)\n",
    "arr2 = np.array(list2)\n",
    "\n",
    "print(arr1)\n",
    "print(arr2)\n",
    "\n",
    "arr2d = np.array([arr1,arr2])\n",
    "\n"
   ]
  },
  {
   "cell_type": "code",
   "execution_count": null,
   "id": "3031d046",
   "metadata": {},
   "outputs": [],
   "source": []
  }
 ],
 "metadata": {
  "kernelspec": {
   "display_name": "Python 3",
   "language": "python",
   "name": "python3"
  },
  "language_info": {
   "codemirror_mode": {
    "name": "ipython",
    "version": 3
   },
   "file_extension": ".py",
   "mimetype": "text/x-python",
   "name": "python",
   "nbconvert_exporter": "python",
   "pygments_lexer": "ipython3",
   "version": "3.12.1"
  }
 },
 "nbformat": 4,
 "nbformat_minor": 5
}
