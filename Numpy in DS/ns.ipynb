{
 "cells": [
  {
   "cell_type": "code",
   "execution_count": 5,
   "id": "743714c2",
   "metadata": {},
   "outputs": [
    {
     "name": "stdout",
     "output_type": "stream",
     "text": [
      "[ 10  11  12  13  14  15  16  17  18  19  20  21  22  23  24  25  26  27\n",
      "  28  29  30  31  32  33  34  35  36  37  38  39  40  41  42  43  44  45\n",
      "  46  47  48  49  50  51  52  53  54  55  56  57  58  59  60  61  62  63\n",
      "  64  65  66  67  68  69  70  71  72  73  74  75  76  77  78  79  80  81\n",
      "  82  83  84  85  86  87  88  89  90  91  92  93  94  95  96  97  98  99\n",
      " 100]\n",
      "(91,)\n",
      "1\n",
      "91\n"
     ]
    }
   ],
   "source": [
    "import numpy as np\n",
    "arr = np.array([x for x in range(10,101)])\n",
    "print(arr)\n",
    "print(arr.shape)\n",
    "print(arr.ndim)\n",
    "print(arr.size)"
   ]
  },
  {
   "cell_type": "code",
   "execution_count": 15,
   "id": "76fe1598",
   "metadata": {},
   "outputs": [
    {
     "name": "stdout",
     "output_type": "stream",
     "text": [
      "4.701039552688599\n"
     ]
    }
   ],
   "source": [
    "import time\n",
    "l1 = [x for x in range(10000)]\n",
    "l2 = [x for  x in range(10000)]\n",
    "start = time.time()\n",
    "l3 = [a*b for a in l1 for b in l2]\n",
    "end = time.time()\n",
    "print(end-start)"
   ]
  },
  {
   "cell_type": "code",
   "execution_count": 14,
   "id": "766cac44",
   "metadata": {},
   "outputs": [
    {
     "name": "stdout",
     "output_type": "stream",
     "text": [
      "0.5566771030426025\n"
     ]
    }
   ],
   "source": [
    "arr = np.array([x for x in range(10000)])\n",
    "arr2 = np.array([x for x in range(10000)])\n",
    "start = time.time()\n",
    "arr3 = arr[:,None]*arr2\n",
    "end = time.time()\n",
    "print(end-start)"
   ]
  },
  {
   "cell_type": "code",
   "execution_count": 18,
   "id": "17e61c72",
   "metadata": {},
   "outputs": [
    {
     "name": "stdout",
     "output_type": "stream",
     "text": [
      "8\n",
      "object\n",
      "<class 'numpy.ndarray'>\n"
     ]
    }
   ],
   "source": [
    "arr = np.array(x for x in range(1000000))\n",
    "print(arr.nbytes)\n",
    "print(arr.dtype)\n",
    "print(type(arr))"
   ]
  },
  {
   "cell_type": "code",
   "execution_count": 25,
   "id": "bd36c110",
   "metadata": {},
   "outputs": [
    {
     "name": "stdout",
     "output_type": "stream",
     "text": [
      "(3, 3)\n",
      "(3, 4)\n",
      "float32\n",
      "[1.1 2.2 3.3]\n",
      "int32\n",
      "[1 2 3]\n",
      "[2 4 6]\n",
      "[0 2 7 8 1 1 3 8 1]\n",
      "[[0 2 7]\n",
      " [8 1 1]\n",
      " [3 8 1]]\n",
      "(3, 4)\n",
      "[[55.75576399 74.24943528 23.93032039 59.12488933]\n",
      " [31.51191545 64.66326192 62.0230517  42.07806923]\n",
      " [73.28895512 24.54746741 55.34387564 41.22642949]]\n",
      "[55.75576399 74.24943528 59.12488933 64.66326192 62.0230517  73.28895512\n",
      " 55.34387564]\n"
     ]
    }
   ],
   "source": [
    "# # numpy lecture 3\n",
    "# Exercises for Practice\n",
    "# Create a 3×3 array filled with random numbers and print its shape.\n",
    "# Convert an array of floats [1.1, 2.2, 3.3] into integers.\n",
    "# Use fancy indexing to extract even numbers from [1, 2, 3, 4, 5, 6].\n",
    "# Reshape a 1D array of size 9 into a 3×3 matrix.\n",
    "# Use boolean masking to filter numbers greater than 50 in an array.\n",
    "\n",
    "import random as rd\n",
    "import numpy as np\n",
    "\n",
    "#1.\n",
    "arr = np.random.uniform(0,100,(3,3))\n",
    "print(arr.shape)\n",
    "arr = np.random.randint(0,10,(3,4))\n",
    "print(arr.shape)\n",
    "\n",
    "#2.\n",
    "arr2 = np.array([1.1,2.2,3.3],dtype=\"float32\")\n",
    "print(arr2.dtype)\n",
    "print(arr2)\n",
    "arr2 = arr2.astype(\"int32\")\n",
    "print(arr2.dtype)\n",
    "print(arr2)\n",
    "\n",
    "#3.\n",
    "arr3 = np.array([1, 2, 3, 4, 5, 6])\n",
    "evenarr = arr3%2 == 0\n",
    "print(arr3[evenarr])\n",
    "\n",
    "#4.\n",
    "arr4 = np.random.randint(0,9,(9))\n",
    "print(arr4)\n",
    "#arr4.reshape(3,3)\n",
    "print(arr4.reshape(3,3))\n",
    "\n",
    "#5.\n",
    "arr5 = np.random.uniform(20,80,(3,4))\n",
    "print(arr5.shape)\n",
    "print(arr5)\n",
    "print(arr5[arr5>50])\n"
   ]
  }
 ],
 "metadata": {
  "kernelspec": {
   "display_name": "Python 3",
   "language": "python",
   "name": "python3"
  },
  "language_info": {
   "codemirror_mode": {
    "name": "ipython",
    "version": 3
   },
   "file_extension": ".py",
   "mimetype": "text/x-python",
   "name": "python",
   "nbconvert_exporter": "python",
   "pygments_lexer": "ipython3",
   "version": "3.12.1"
  }
 },
 "nbformat": 4,
 "nbformat_minor": 5
}
