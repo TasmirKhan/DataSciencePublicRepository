{
 "cells": [
  {
   "cell_type": "code",
   "execution_count": 2,
   "id": "07efaeff",
   "metadata": {},
   "outputs": [
    {
     "name": "stdout",
     "output_type": "stream",
     "text": [
      "2 1\n"
     ]
    }
   ],
   "source": [
    "import numpy as np\n",
    "\n",
    "# Indexing same as python\n",
    "\n",
    "arr = np.array([1,2,3,4])\n",
    "print(arr[1],end=\" \")\n",
    "print(arr[0])"
   ]
  },
  {
   "cell_type": "code",
   "execution_count": 10,
   "id": "b0c79aa3",
   "metadata": {},
   "outputs": [
    {
     "name": "stdout",
     "output_type": "stream",
     "text": [
      "[20 30 40]\n",
      "[10 20 30]\n",
      "[10 30 50]\n",
      "[10 20 30 40 50]\n"
     ]
    }
   ],
   "source": [
    "# slicing extracting parts of an array\n",
    "arr = np.array([10,20,30,40,50])\n",
    "sliced_array = arr[1:4]\n",
    "print(sliced_array)\n",
    "sl_arr = arr[:3]\n",
    "print(sl_arr)\n",
    "sl_arr2 = arr[::2].copy()\n",
    "print(sl_arr2)\n",
    "sl_arr2[1] = 999\n",
    "print(arr)"
   ]
  },
  {
   "cell_type": "code",
   "execution_count": 16,
   "id": "11580341",
   "metadata": {},
   "outputs": [
    {
     "name": "stdout",
     "output_type": "stream",
     "text": [
      "[10 30 50]\n",
      "[30 40 50]\n"
     ]
    }
   ],
   "source": [
    "# Fancy indexing and boolean masking\n",
    "arr = np.array([10,20,30,40,50])\n",
    "idx = [0,2,4]\n",
    "print(arr[idx])\n",
    "mask = arr>25\n",
    "print(arr[mask])\n"
   ]
  },
  {
   "cell_type": "code",
   "execution_count": null,
   "id": "b23b2842",
   "metadata": {},
   "outputs": [],
   "source": []
  }
 ],
 "metadata": {
  "kernelspec": {
   "display_name": "Python 3",
   "language": "python",
   "name": "python3"
  },
  "language_info": {
   "codemirror_mode": {
    "name": "ipython",
    "version": 3
   },
   "file_extension": ".py",
   "mimetype": "text/x-python",
   "name": "python",
   "nbconvert_exporter": "python",
   "pygments_lexer": "ipython3",
   "version": "3.12.1"
  }
 },
 "nbformat": 4,
 "nbformat_minor": 5
}
