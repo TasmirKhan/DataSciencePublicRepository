{
 "cells": [
  {
   "cell_type": "code",
   "execution_count": 5,
   "id": "a6713b41",
   "metadata": {},
   "outputs": [
    {
     "name": "stdout",
     "output_type": "stream",
     "text": [
      "[[1 2 3]\n",
      " [2 3 4]\n",
      " [4 5 6]\n",
      " [6 7 8]]\n",
      "[1 2 3 2 3 4 4 5 6 6 7 8]\n",
      "1\n",
      "8\n",
      "[1 2 3 2]\n",
      "[8 7 6 6 5 4 4 3 2 3 2 1]\n",
      "[1 3 3 4 6 7]\n"
     ]
    }
   ],
   "source": [
    "import numpy as np\n",
    "\n",
    "arr = np.array([[1,2,3],[2,3,4],[4,5,6],[6,7,8]])\n",
    "arr\n",
    "print(arr)\n",
    "flat = arr.flatten()\n",
    "print(flat)\n",
    "\n",
    "print(flat[0])\n",
    "print(flat[-1])\n",
    "print(flat[:4])\n",
    "print(flat[::-1])\n",
    "print(flat[::2])\n"
   ]
  },
  {
   "cell_type": "code",
   "execution_count": 6,
   "id": "d3a2eaf4",
   "metadata": {},
   "outputs": [
    {
     "name": "stdout",
     "output_type": "stream",
     "text": [
      "[2 4 2]\n"
     ]
    }
   ],
   "source": [
    "idx = [1,5,3]\n",
    "print(flat[idx])"
   ]
  },
  {
   "cell_type": "code",
   "execution_count": 8,
   "id": "c5451e24",
   "metadata": {},
   "outputs": [
    {
     "name": "stdout",
     "output_type": "stream",
     "text": [
      "[6 6 7 8]\n"
     ]
    }
   ],
   "source": [
    "mask = flat>5\n",
    "print(flat[mask])"
   ]
  },
  {
   "cell_type": "code",
   "execution_count": null,
   "id": "a0cd951f",
   "metadata": {},
   "outputs": [
    {
     "name": "stdout",
     "output_type": "stream",
     "text": [
      "[0. 0. 0.]\n",
      "[1. 1. 1.]\n",
      "[ 1  2  3  5  4  2 34  5 67]\n",
      "[[ 1  2  3]\n",
      " [ 5  4  2]\n",
      " [34  5 67]]\n",
      "[2 4 5]\n",
      "[67]\n"
     ]
    }
   ],
   "source": [
    "arr = np.zeros(3)\n",
    "print(arr)\n",
    "arr2 = np.ones(3)\n",
    "print(arr2)\n",
    "\n",
    "myarr2 = np.array([1,2,3,5,4,2,34,5,67])\n",
    "print(myarr2)\n",
    "\n",
    "print(myarr2.reshape(3,3))\n",
    "\n",
    "great = myarr2>50\n",
    "idx = [1,4,3]\n",
    "print(myarr2[idx]) # fancy indexing\n",
    "\n",
    "print(myarr2[great])   #boolean masking\n",
    "\n"
   ]
  },
  {
   "cell_type": "code",
   "execution_count": null,
   "id": "40a193bd",
   "metadata": {},
   "outputs": [],
   "source": []
  }
 ],
 "metadata": {
  "kernelspec": {
   "display_name": "Python 3",
   "language": "python",
   "name": "python3"
  },
  "language_info": {
   "codemirror_mode": {
    "name": "ipython",
    "version": 3
   },
   "file_extension": ".py",
   "mimetype": "text/x-python",
   "name": "python",
   "nbconvert_exporter": "python",
   "pygments_lexer": "ipython3",
   "version": "3.12.1"
  }
 },
 "nbformat": 4,
 "nbformat_minor": 5
}
