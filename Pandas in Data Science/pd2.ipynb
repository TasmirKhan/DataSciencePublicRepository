{
 "cells": [
  {
   "cell_type": "markdown",
   "id": "c8b9d5a0",
   "metadata": {},
   "source": [
    "Creating DataFrames"
   ]
  },
  {
   "cell_type": "code",
   "execution_count": null,
   "id": "6a346962",
   "metadata": {},
   "outputs": [
    {
     "name": "stdout",
     "output_type": "stream",
     "text": [
      "      Name  Age Profession\n",
      "0    Alice   20         Hr\n",
      "1      Bob   23         SE\n",
      "2  Charlie   25         AI\n"
     ]
    }
   ],
   "source": [
    "import pandas as pd\n",
    "import numpy as np\n",
    "data = [\n",
    "    [\"Alice\",20,\"Hr\"],\n",
    "    [\"Bob\",23,\"SE\"],\n",
    "    [\"Charlie\",25,\"AI\"]\n",
    "]\n",
    "df = pd.DataFrame(data,columns=[\"Name\",\"Age\",\"Profession\"])\n",
    "print(df)\n",
    "\n",
    "arr = np.array([[1,2],[3,4]])\n"
   ]
  },
  {
   "cell_type": "code",
   "execution_count": null,
   "id": "c810d62d",
   "metadata": {},
   "outputs": [],
   "source": [
    "import pandas as pd\n",
    "import numpy as np\n",
    "\n"
   ]
  }
 ],
 "metadata": {
  "kernelspec": {
   "display_name": "Python 3",
   "language": "python",
   "name": "python3"
  },
  "language_info": {
   "codemirror_mode": {
    "name": "ipython",
    "version": 3
   },
   "file_extension": ".py",
   "mimetype": "text/x-python",
   "name": "python",
   "nbconvert_exporter": "python",
   "pygments_lexer": "ipython3",
   "version": "3.12.1"
  }
 },
 "nbformat": 4,
 "nbformat_minor": 5
}
