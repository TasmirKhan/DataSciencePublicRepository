{
 "cells": [
  {
   "cell_type": "markdown",
   "id": "c8b9d5a0",
   "metadata": {},
   "source": [
    "Creating DataFrames"
   ]
  },
  {
   "cell_type": "code",
   "execution_count": null,
   "id": "6a346962",
   "metadata": {},
   "outputs": [],
   "source": []
  }
 ],
 "metadata": {
  "language_info": {
   "name": "python"
  }
 },
 "nbformat": 4,
 "nbformat_minor": 5
}
