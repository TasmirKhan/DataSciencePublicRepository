{
 "cells": [
  {
   "cell_type": "markdown",
   "id": "6581bce9",
   "metadata": {},
   "source": [
    "Core data Structure in python"
   ]
  },
  {
   "cell_type": "code",
   "execution_count": null,
   "id": "50fee362",
   "metadata": {},
   "outputs": [
    {
     "name": "stdout",
     "output_type": "stream",
     "text": [
      "[1 2 3 4 5]\n",
      "0    1\n",
      "1    2\n",
      "2    3\n",
      "3    4\n",
      "4    5\n",
      "dtype: int64\n",
      "a    1\n",
      "b    2\n",
      "c    4\n",
      "dtype: int64\n",
      "      name  age      city\n",
      "0    Alice   24     Delhi\n",
      "1      Bob   32    Mumbai\n",
      "2  Charlie   12  Allahbad\n",
      "RangeIndex(start=0, stop=3, step=1)\n",
      "Index(['name', 'age', 'city'], dtype='object')\n",
      "      Naam  Umar    Shahar\n",
      "0    Alice    24     Delhi\n",
      "1      Bob    32    Mumbai\n",
      "2  Charlie    12  Allahbad\n"
     ]
    }
   ],
   "source": [
    "import pandas as pd\n",
    "import numpy as np\n",
    "n = np.array([1,2,3,4,5])\n",
    "print(n)\n",
    "s = pd.Series([1,2,3,4,5])\n",
    "print(s)\n",
    "s = pd.Series([1,2,4], index=[\"a\",\"b\",\"c\"])\n",
    "print(s)\n",
    "\n",
    "data = {\n",
    "    \"name\":[\"Alice\",\"Bob\",\"Charlie\"],\n",
    "    \"age\":[24,32,12],\n",
    "    \"city\":[\"Delhi\",\"Mumbai\",\"Allahbad\"]\n",
    "}\n",
    "df = pd.DataFrame(data)\n",
    "print(df)\n",
    "print(df.index)\n",
    "print(df.columns)\n",
    "df.columns = [\"Naam\",\"Umar\",\"Shahar\"]\n",
    "print(df)\n"
   ]
  }
 ],
 "metadata": {
  "kernelspec": {
   "display_name": "Python 3",
   "language": "python",
   "name": "python3"
  },
  "language_info": {
   "codemirror_mode": {
    "name": "ipython",
    "version": 3
   },
   "file_extension": ".py",
   "mimetype": "text/x-python",
   "name": "python",
   "nbconvert_exporter": "python",
   "pygments_lexer": "ipython3",
   "version": "3.12.1"
  }
 },
 "nbformat": 4,
 "nbformat_minor": 5
}
