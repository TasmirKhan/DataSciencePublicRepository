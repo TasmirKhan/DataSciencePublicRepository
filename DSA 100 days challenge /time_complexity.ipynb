{
 "cells": [
  {
   "cell_type": "markdown",
   "id": "62a06c4c",
   "metadata": {},
   "source": [
    "Basic Notations (Big-O)\n",
    "\n",
    "We use Big-O notation to describe time complexity:\n",
    "\n",
    "O(1) → Constant time (fastest, doesn’t depend on input size).\n",
    "\n",
    "O(log n) → Logarithmic time (input shrinks by half each step).\n",
    "\n",
    "O(n) → Linear time (go through all elements once).\n",
    "\n",
    "O(n log n) → Linearithmic (common in sorting like Merge Sort, QuickSort).\n",
    "\n",
    "O(n²) → Quadratic (nested loops, e.g., checking all pairs).\n",
    "\n",
    "O(2^n) → Exponential (very slow, like recursion generating all subsets).\n",
    "\n",
    "O(n!) → Factorial (worst, like brute force traveling salesman problem)."
   ]
  }
 ],
 "metadata": {
  "language_info": {
   "name": "python"
  }
 },
 "nbformat": 4,
 "nbformat_minor": 5
}
