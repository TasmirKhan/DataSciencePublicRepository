{
 "cells": [
  {
   "cell_type": "markdown",
   "id": "9661931f",
   "metadata": {},
   "source": [
    "Creating a Database\n",
    "To start working with MySQL, the first step is to create a database.\n",
    "\n",
    "Syntax\n",
    "CREATE DATABASE database_name;\n",
    "\n",
    "Example\n",
    "CREATE DATABASE student_db;\n",
    "\n",
    "This command creates a new database named student_db.\n",
    "\n",
    "Tips\n",
    "Database names should be unique.\n",
    "Avoid using spaces or special characters.\n",
    "Use lowercase and underscores (_) for better readability (e.g., employee_records).\n",
    "Viewing All Databases\n",
    "To see all available databases:\n",
    "\n",
    "SHOW DATABASES;\n",
    "\n",
    "Switching to a Database\n",
    "Before working with tables, you must select the database:\n",
    "\n",
    "USE student_db;\n",
    "\n",
    "Dropping a Database\n",
    "To delete an existing database (this action is irreversible):\n",
    "\n",
    "DROP DATABASE database_name;\n",
    "\n",
    "Example\n",
    "DROP DATABASE student_db;\n",
    "\n",
    "Be very careful! This will permanently delete all data and tables in the database."
   ]
  }
 ],
 "metadata": {
  "language_info": {
   "name": "python"
  }
 },
 "nbformat": 4,
 "nbformat_minor": 5
}
