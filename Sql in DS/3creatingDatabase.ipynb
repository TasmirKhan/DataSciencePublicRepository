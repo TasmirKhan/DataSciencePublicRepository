{
 "cells": [
  {
   "cell_type": "markdown",
   "id": "2524c59f",
   "metadata": {},
   "source": [
    "Creating a Table\n",
    "Once you have selected a database, you can create tables to organize and store data.\n",
    "\n",
    "Syntax\n",
    "CREATE TABLE table_name (\n",
    "  column1 datatype constraints,\n",
    "  column2 datatype constraints,\n",
    "  ...\n",
    ");\n",
    "\n",
    "Example\n",
    "CREATE TABLE students (\n",
    "  id INT AUTO_INCREMENT PRIMARY KEY,\n",
    "  name VARCHAR(100) NOT NULL DEFAULT 'No Name',\n",
    "  age INT,\n",
    "  email VARCHAR(100) UNIQUE,\n",
    "  admission_date DATE\n",
    ");\n",
    "\n",
    "Explanation\n",
    "id INT AUTO_INCREMENT PRIMARY KEY – A unique identifier for each student that auto-increments.\n",
    "name VARCHAR(100) NOT NULL – Name must be provided.\n",
    "age INT – Stores numeric values for age.\n",
    "email VARCHAR(100) UNIQUE – Each email must be different.\n",
    "admission_date DATE – Stores the date of admission.\n",
    "Commonly Used Data Types\n",
    "INT – Whole numbers (e.g., age, quantity)\n",
    "VARCHAR(n) – Variable-length string (e.g., names, emails)\n",
    "TEXT – Long text strings (e.g., descriptions)\n",
    "DATE – Stores date values (YYYY-MM-DD)\n",
    "DATETIME – Stores date and time values\n",
    "BOOLEAN – Stores TRUE or FALSE\n",
    "Common Constraints\n",
    "PRIMARY KEY – Uniquely identifies each record\n",
    "NOT NULL – Ensures the column cannot be left empty\n",
    "UNIQUE – Ensures all values in a column are different\n",
    "AUTO_INCREMENT – Automatically increases numeric values\n",
    "DEFAULT – Sets a default value for the column\n",
    "FOREIGN KEY – Enforces relationships between tables\n",
    "View All Tables\n",
    "SHOW TABLES;\n",
    "\n",
    "View Table Structure\n",
    "DESCRIBE students;\n",
    " \n",
    "\n",
    "Viewing Table Data\n",
    "SELECT * FROM students;\n",
    "\n",
    "Tables are the backbone of any relational database. A well-structured table leads to efficient data management and fewer issues later on."
   ]
  }
 ],
 "metadata": {
  "language_info": {
   "name": "python"
  }
 },
 "nbformat": 4,
 "nbformat_minor": 5
}
