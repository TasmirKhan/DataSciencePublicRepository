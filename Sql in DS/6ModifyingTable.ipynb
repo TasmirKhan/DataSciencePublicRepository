{
 "cells": [
  {
   "cell_type": "markdown",
   "id": "6dbaeaa4",
   "metadata": {},
   "source": [
    "Modifying a Table\n",
    "As your application grows or requirements change, you may need to make changes to existing tables. MySQL provides several ALTER and related statements for such modifications.\n",
    "\n",
    "Renaming a Table\n",
    "Use the RENAME TABLE command to change the name of an existing table.\n",
    "\n",
    "RENAME TABLE old_table_name TO new_table_name;\n",
    "\n",
    "Dropping a Table\n",
    "To permanently delete a table and all of its data:\n",
    "\n",
    "DROP TABLE table_name;\n",
    "\n",
    "Renaming a Column\n",
    "To rename a column in an existing table:\n",
    "\n",
    "ALTER TABLE table_name RENAME COLUMN old_column_name TO new_column_name;\n",
    "\n",
    "Dropping a Column\n",
    "To remove a column from a table:\n",
    "\n",
    "ALTER TABLE table_name DROP COLUMN column_name;\n",
    "\n",
    "Adding a Column\n",
    "To add a new column to an existing table:\n",
    "\n",
    "ALTER TABLE table_name ADD COLUMN column_name datatype constraints;\n",
    "\n",
    "Example:\n",
    "\n",
    "ALTER TABLE students ADD COLUMN gender VARCHAR(10);\n",
    "\n",
    "Modifying a Column\n",
    "To change the data type or constraints of an existing column:\n",
    "\n",
    "ALTER TABLE table_name MODIFY COLUMN column_name new_datatype new_constraints;\n",
    "\n",
    "Example:\n",
    "\n",
    "ALTER TABLE students MODIFY COLUMN name VARCHAR(150) NOT NULL;\n",
    "\n",
    "Changing the Order of Columns\n",
    "To change the order of columns in a table, you can use the MODIFY command with the AFTER keyword:\n",
    "\n",
    "ALTER TABLE table_name MODIFY COLUMN column_name datatype AFTER another_column_name;\n",
    "\n",
    "Always review changes on production databases carefully. Use tools like DESCRIBE table_name to verify structure before and after modifications."
   ]
  }
 ],
 "metadata": {
  "language_info": {
   "name": "python"
  }
 },
 "nbformat": 4,
 "nbformat_minor": 5
}
