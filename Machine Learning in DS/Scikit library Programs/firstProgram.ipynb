{
 "cells": [
  {
   "cell_type": "markdown",
   "id": "cff23437",
   "metadata": {},
   "source": [
    "How Machines Learn\n",
    "Not so long ago, if you had picked up your phone, opened ChatGPT and asked it what to do in a certain particular situation, it would have ignored you—and people might have looked at you like you were losing your mind. Today, it's normal. Technology is growing like never before, and Machine Learning (ML) is at the center of this transformation.\n",
    "\n",
    "Back in the 1990s, one of the earliest real-world applications of ML was the spam filter. Imagine checking your email back then—your inbox would often be flooded with unwanted messages about dubious offers, miracle diets, or suspicious job proposals. Engineers started building systems that could learn to recognize these spam patterns based on examples. The idea wasn't to hard-code the rules (like \"if email contains the word 'lottery', mark as spam\") but instead to let the system learn from actual spam and non-spam (ham) emails.\n",
    "\n",
    "Over time, as users kept marking messages as spam, the system learned to identify new spam even before the user had to touch it. That was early machine learning in action.\n",
    "\n",
    "What Machine Learning Is Not\n",
    "If you download hundreds of books onto your computer, it doesn’t automatically become smart. Your computer doesn’t start writing like Shakespeare or summarizing those books for you. It just stores data. That’s not machine learning. That’s just data storage and retrieval.\n",
    "\n",
    "Machine Learning kicks in when a computer can improve at a task by learning from data and experience—without being manually programmed for every scenario.\n",
    "\n",
    "What Machine Learning Is\n",
    "Machine Learning is the science (and art) of programming computers so they can learn from data.\n",
    "\n",
    "Here’s a slightly more general definition:\n",
    "\n",
    "“Machine learning is the field of study that gives computers the ability to learn without being explicitly programmed.” — Arthur Samuel, 1959\n",
    "\n",
    "And a more engineering-focused one:\n",
    "\n",
    "“A computer program is said to learn from experience E with respect to some task T and some performance measure P, if its performance on T, as measured by P, improves with experience E.” — Tom Mitchell, 1997\n",
    "\n",
    "Let’s break that down with the spam filter example:\n",
    "\n",
    "Task (T): Identify whether an email is spam or not\n",
    "Experience (E): Examples of labeled emails (spam or ham)\n",
    "Performance measure (P): Accuracy — how many emails are correctly classified\n",
    "If the system keeps getting better at flagging spam based on past emails, it is said to be learning.\n",
    "\n",
    "The examples used to train the system are called the training set, and each individual example is a training instance (or sample). The part of the ML system that does the actual learning and prediction is called the model. Think of the model as the brain that’s being trained.\n",
    "\n",
    "Some popular models include:\n",
    "\n",
    "Neural Networks\n",
    "Random Forests\n",
    "Support Vector Machines\n",
    "Traditional Programming vs Machine Learning\n",
    "To truly understand what makes ML different, let’s compare it with the traditional approach.\n",
    "\n",
    "Traditional Approach\n",
    "In traditional programming:\n",
    "\n",
    "A human writes explicit rules for the computer to follow.\n",
    "Input + Rules = Output\n",
    "Example: If an email contains the word “free money,” mark it as spam. But what if spammers start writing “frëe m0ney”? The rule breaks.\n",
    "\n",
    " \n",
    "\n",
    "Machine Learning Approach\n",
    "In the ML approach:\n",
    "\n",
    "The computer is given examples (data) and learns the rules by itself.\n",
    "Input + Output (examples) → Learning → Model (Rules)\n",
    "Then: New Input + Model = Prediction\n",
    " \n",
    "\n",
    "So, instead of hardcoding logic for every possible spam variation, the system learns patterns in spammy emails over time and generalizes them to new messages—even ones it hasn’t seen before.\n",
    "\n",
    "Summary\n",
    "Just storing data is not machine learning.\n",
    "ML is about improving performance with experience.\n",
    "The system learns patterns from data rather than following hardcoded rules.\n",
    "The model is what makes predictions.\n",
    "One of the earliest ML use-cases was spam detection.\n",
    "Unlike traditional programming, ML systems adapt as they see more data."
   ]
  },
  {
   "cell_type": "markdown",
   "id": "be5d715f",
   "metadata": {},
   "source": [
    "Installing Scikit-learn\n",
    "Open your terminal (or use Jupyter Notebook / Google Colab) and run:\n",
    "\n",
    "pip install scikit-learn\n",
    "\n",
    "Or in Google Colab:\n",
    "\n",
    "!pip install scikit-learn"
   ]
  },
  {
   "cell_type": "code",
   "execution_count": 2,
   "id": "66a227c5",
   "metadata": {},
   "outputs": [
    {
     "name": "stdout",
     "output_type": "stream",
     "text": [
      "Requirement already satisfied: scikit-learn in /home/codespace/.local/lib/python3.12/site-packages (1.6.1)\n",
      "Requirement already satisfied: numpy>=1.19.5 in /home/codespace/.local/lib/python3.12/site-packages (from scikit-learn) (2.2.4)\n",
      "Requirement already satisfied: scipy>=1.6.0 in /home/codespace/.local/lib/python3.12/site-packages (from scikit-learn) (1.15.2)\n",
      "Requirement already satisfied: joblib>=1.2.0 in /home/codespace/.local/lib/python3.12/site-packages (from scikit-learn) (1.4.2)\n",
      "Requirement already satisfied: threadpoolctl>=3.1.0 in /home/codespace/.local/lib/python3.12/site-packages (from scikit-learn) (3.6.0)\n",
      "\n",
      "\u001b[1m[\u001b[0m\u001b[34;49mnotice\u001b[0m\u001b[1;39;49m]\u001b[0m\u001b[39;49m A new release of pip is available: \u001b[0m\u001b[31;49m25.0.1\u001b[0m\u001b[39;49m -> \u001b[0m\u001b[32;49m25.1.1\u001b[0m\n",
      "\u001b[1m[\u001b[0m\u001b[34;49mnotice\u001b[0m\u001b[1;39;49m]\u001b[0m\u001b[39;49m To update, run: \u001b[0m\u001b[32;49mpython -m pip install --upgrade pip\u001b[0m\n",
      "Note: you may need to restart the kernel to use updated packages.\n",
      "Predicted price for room 2 and area 1800 [26750.]\n"
     ]
    },
    {
     "name": "stderr",
     "output_type": "stream",
     "text": [
      "/home/codespace/.local/lib/python3.12/site-packages/sklearn/utils/validation.py:2739: UserWarning: X does not have valid feature names, but LinearRegression was fitted with feature names\n",
      "  warnings.warn(\n"
     ]
    }
   ],
   "source": [
    "%pip install scikit-learn\n",
    "\n",
    "# 1. Linear Regression\n",
    "# Question:\n",
    "# Build a linear regression model to predict house prices using features like area and number of bedrooms.\n",
    "\n",
    "# Dataset Suggestion: Use a synthetic or small CSV with 2-3 columns (area, bedrooms, price).\n",
    "\n",
    "from sklearn.linear_model import LinearRegression\n",
    "import pandas as pd\n",
    "\n",
    "data ={\n",
    "    \"area\":[1000,1500,2000,2500],\n",
    "    \"bedroom\":[2,3,3,4],\n",
    "    \"price\":[20000,30000,35000,50000]\n",
    "}\n",
    "df = pd.DataFrame(data)\n",
    "\n",
    "x = df[[\"area\",\"bedroom\"]]\n",
    "y = df['price']\n",
    "\n",
    "model = LinearRegression()\n",
    "model.fit(x,y)\n",
    "print(\"Predicted price for room 2 and area 1800\",model.predict([[1800,2]]))\n"
   ]
  },
  {
   "cell_type": "code",
   "execution_count": 4,
   "id": "5a00992f",
   "metadata": {},
   "outputs": [
    {
     "name": "stdout",
     "output_type": "stream",
     "text": [
      "   gender       age    income\n",
      "0       1 -0.606092 -0.507093\n",
      "1       0  0.404061 -1.183216\n",
      "2       1 -1.212183  1.521278\n",
      "3       0  1.414214  0.169031\n"
     ]
    }
   ],
   "source": [
    "# 3. Data Preprocessing with Scikit-Learn\n",
    "# Question:\n",
    "# Load a dataset and:\n",
    "\n",
    "# Handle missing values\n",
    "\n",
    "# Encode categorical variables using LabelEncoder or OneHotEncoder\n",
    "\n",
    "# Normalize or scale features using StandardScaler or MinMaxScaler\n",
    "import pandas as pd\n",
    "from sklearn.preprocessing import StandardScaler, LabelEncoder\n",
    "data = {\n",
    "    'gender':['M','F','M','F'],\n",
    "    'age':[25,30,22,35],\n",
    "    'income':[40000,35000,55000,45000]\n",
    "}\n",
    "\n",
    "df = pd.DataFrame(data)\n",
    "le = LabelEncoder()\n",
    "df['gender'] = le.fit_transform(df['gender'])\n",
    "\n",
    "# scaling\n",
    "scaler = StandardScaler()\n",
    "df[['age','income']] = scaler.fit_transform(df[['age','income']])\n",
    "print(df)\n"
   ]
  },
  {
   "cell_type": "code",
   "execution_count": 16,
   "id": "ae8aa097",
   "metadata": {},
   "outputs": [
    {
     "name": "stdout",
     "output_type": "stream",
     "text": [
      "Accuracy :  0.9666666666666667\n"
     ]
    }
   ],
   "source": [
    "# 4. Train-Test Split\n",
    "# Question:\n",
    "# Split a dataset into training and testing sets and evaluate the model accuracy.\n",
    "\n",
    "# Use: train_test_split() from sklearn.model_selection\n",
    "\n",
    "from sklearn.datasets import load_iris\n",
    "from sklearn.model_selection import train_test_split\n",
    "from sklearn.tree import DecisionTreeClassifier\n",
    "\n",
    "iris = load_iris()\n",
    "x = iris.data\n",
    "y = iris.target\n",
    "\n",
    "x_train, x_test, y_train, y_test  = train_test_split(x,y, test_size=0.2)\n",
    "model = DecisionTreeClassifier()\n",
    "model.fit(x_train,y_train)\n",
    "print(\"Accuracy : \", model.score(x_test,y_test))"
   ]
  },
  {
   "cell_type": "code",
   "execution_count": 19,
   "id": "8f7f604e",
   "metadata": {},
   "outputs": [
    {
     "name": "stdout",
     "output_type": "stream",
     "text": [
      "Prediciton for first folwer:-  [0]\n"
     ]
    }
   ],
   "source": [
    "#  5. K-Nearest Neighbors (KNN)\n",
    "# Question:\n",
    "# Classify iris flowers into species using the KNN algorithm.\n",
    "\n",
    "# Dataset: from sklearn.datasets import load_iris\n",
    "\n",
    "import pandas as pd \n",
    "from sklearn.datasets import load_iris\n",
    "from sklearn.neighbors import KNeighborsClassifier\n",
    "\n",
    "iris = load_iris()\n",
    "x,y = iris.data, iris.target\n",
    "model = KNeighborsClassifier(n_neighbors=3)\n",
    "model.fit(x,y)\n",
    "print(\"Prediciton for first folwer:- \", model.predict([x[0]]))"
   ]
  }
 ],
 "metadata": {
  "kernelspec": {
   "display_name": "Python 3",
   "language": "python",
   "name": "python3"
  },
  "language_info": {
   "codemirror_mode": {
    "name": "ipython",
    "version": 3
   },
   "file_extension": ".py",
   "mimetype": "text/x-python",
   "name": "python",
   "nbconvert_exporter": "python",
   "pygments_lexer": "ipython3",
   "version": "3.12.1"
  }
 },
 "nbformat": 4,
 "nbformat_minor": 5
}
